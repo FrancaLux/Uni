{
 "cells": [
  {
   "cell_type": "markdown",
   "metadata": {},
   "source": [
    "### Development economics I Tutorial 4"
   ]
  },
  {
   "cell_type": "markdown",
   "metadata": {},
   "source": [
    "start by importing necessary packages"
   ]
  },
  {
   "cell_type": "markdown",
   "metadata": {},
   "source": [
    "Here: pandas and math"
   ]
  },
  {
   "cell_type": "code",
   "execution_count": 1,
   "metadata": {},
   "outputs": [],
   "source": [
    "import pandas as pd\n",
    "import math as m"
   ]
  },
  {
   "cell_type": "markdown",
   "metadata": {},
   "source": [
    "now import the data; only excel sheet 'GDP pc' necessary here."
   ]
  },
  {
   "cell_type": "code",
   "execution_count": 2,
   "metadata": {
    "scrolled": true
   },
   "outputs": [],
   "source": [
    "mad_data = pd.read_excel (r'C:\\Users\\ichma\\Documents\\Uni\\WiSe2122\\Dev econ I\\mpd2020.xlsx', sheet_name='GDP pc')"
   ]
  },
  {
   "cell_type": "markdown",
   "metadata": {},
   "source": [
    "The data now looks like this"
   ]
  },
  {
   "cell_type": "code",
   "execution_count": 3,
   "metadata": {
    "scrolled": true
   },
   "outputs": [
    {
     "data": {
      "text/html": [
       "<div>\n",
       "<style scoped>\n",
       "    .dataframe tbody tr th:only-of-type {\n",
       "        vertical-align: middle;\n",
       "    }\n",
       "\n",
       "    .dataframe tbody tr th {\n",
       "        vertical-align: top;\n",
       "    }\n",
       "\n",
       "    .dataframe thead th {\n",
       "        text-align: right;\n",
       "    }\n",
       "</style>\n",
       "<table border=\"1\" class=\"dataframe\">\n",
       "  <thead>\n",
       "    <tr style=\"text-align: right;\">\n",
       "      <th></th>\n",
       "      <th>GDP pc 2011 prices</th>\n",
       "      <th>Afghanistan</th>\n",
       "      <th>Angola</th>\n",
       "      <th>Albania</th>\n",
       "      <th>United Arab Emirates</th>\n",
       "      <th>Argentina</th>\n",
       "      <th>Armenia</th>\n",
       "      <th>Australia</th>\n",
       "      <th>Austria</th>\n",
       "      <th>Azerbaijan</th>\n",
       "      <th>...</th>\n",
       "      <th>Uruguay</th>\n",
       "      <th>United States</th>\n",
       "      <th>Uzbekistan</th>\n",
       "      <th>Venezuela (Bolivarian Republic of)</th>\n",
       "      <th>Viet Nam</th>\n",
       "      <th>Yemen</th>\n",
       "      <th>Former Yugoslavia</th>\n",
       "      <th>South Africa</th>\n",
       "      <th>Zambia</th>\n",
       "      <th>Zimbabwe</th>\n",
       "    </tr>\n",
       "  </thead>\n",
       "  <tbody>\n",
       "    <tr>\n",
       "      <th>0</th>\n",
       "      <td>year</td>\n",
       "      <td>AFG</td>\n",
       "      <td>AGO</td>\n",
       "      <td>ALB</td>\n",
       "      <td>ARE</td>\n",
       "      <td>ARG</td>\n",
       "      <td>ARM</td>\n",
       "      <td>AUS</td>\n",
       "      <td>AUT</td>\n",
       "      <td>AZE</td>\n",
       "      <td>...</td>\n",
       "      <td>URY</td>\n",
       "      <td>USA</td>\n",
       "      <td>UZB</td>\n",
       "      <td>VEN</td>\n",
       "      <td>VNM</td>\n",
       "      <td>YEM</td>\n",
       "      <td>YUG</td>\n",
       "      <td>ZAF</td>\n",
       "      <td>ZMB</td>\n",
       "      <td>ZWE</td>\n",
       "    </tr>\n",
       "    <tr>\n",
       "      <th>1</th>\n",
       "      <td>1</td>\n",
       "      <td>NaN</td>\n",
       "      <td>NaN</td>\n",
       "      <td>NaN</td>\n",
       "      <td>NaN</td>\n",
       "      <td>NaN</td>\n",
       "      <td>NaN</td>\n",
       "      <td>NaN</td>\n",
       "      <td>NaN</td>\n",
       "      <td>NaN</td>\n",
       "      <td>...</td>\n",
       "      <td>NaN</td>\n",
       "      <td>NaN</td>\n",
       "      <td>NaN</td>\n",
       "      <td>NaN</td>\n",
       "      <td>NaN</td>\n",
       "      <td>NaN</td>\n",
       "      <td>NaN</td>\n",
       "      <td>NaN</td>\n",
       "      <td>NaN</td>\n",
       "      <td>NaN</td>\n",
       "    </tr>\n",
       "    <tr>\n",
       "      <th>2</th>\n",
       "      <td>730</td>\n",
       "      <td>NaN</td>\n",
       "      <td>NaN</td>\n",
       "      <td>NaN</td>\n",
       "      <td>NaN</td>\n",
       "      <td>NaN</td>\n",
       "      <td>NaN</td>\n",
       "      <td>NaN</td>\n",
       "      <td>NaN</td>\n",
       "      <td>NaN</td>\n",
       "      <td>...</td>\n",
       "      <td>NaN</td>\n",
       "      <td>NaN</td>\n",
       "      <td>NaN</td>\n",
       "      <td>NaN</td>\n",
       "      <td>NaN</td>\n",
       "      <td>NaN</td>\n",
       "      <td>NaN</td>\n",
       "      <td>NaN</td>\n",
       "      <td>NaN</td>\n",
       "      <td>NaN</td>\n",
       "    </tr>\n",
       "    <tr>\n",
       "      <th>3</th>\n",
       "      <td>1000</td>\n",
       "      <td>NaN</td>\n",
       "      <td>NaN</td>\n",
       "      <td>NaN</td>\n",
       "      <td>NaN</td>\n",
       "      <td>NaN</td>\n",
       "      <td>NaN</td>\n",
       "      <td>NaN</td>\n",
       "      <td>NaN</td>\n",
       "      <td>NaN</td>\n",
       "      <td>...</td>\n",
       "      <td>NaN</td>\n",
       "      <td>NaN</td>\n",
       "      <td>NaN</td>\n",
       "      <td>NaN</td>\n",
       "      <td>NaN</td>\n",
       "      <td>NaN</td>\n",
       "      <td>NaN</td>\n",
       "      <td>NaN</td>\n",
       "      <td>NaN</td>\n",
       "      <td>NaN</td>\n",
       "    </tr>\n",
       "    <tr>\n",
       "      <th>4</th>\n",
       "      <td>1090</td>\n",
       "      <td>NaN</td>\n",
       "      <td>NaN</td>\n",
       "      <td>NaN</td>\n",
       "      <td>NaN</td>\n",
       "      <td>NaN</td>\n",
       "      <td>NaN</td>\n",
       "      <td>NaN</td>\n",
       "      <td>NaN</td>\n",
       "      <td>NaN</td>\n",
       "      <td>...</td>\n",
       "      <td>NaN</td>\n",
       "      <td>NaN</td>\n",
       "      <td>NaN</td>\n",
       "      <td>NaN</td>\n",
       "      <td>NaN</td>\n",
       "      <td>NaN</td>\n",
       "      <td>NaN</td>\n",
       "      <td>NaN</td>\n",
       "      <td>NaN</td>\n",
       "      <td>NaN</td>\n",
       "    </tr>\n",
       "    <tr>\n",
       "      <th>...</th>\n",
       "      <td>...</td>\n",
       "      <td>...</td>\n",
       "      <td>...</td>\n",
       "      <td>...</td>\n",
       "      <td>...</td>\n",
       "      <td>...</td>\n",
       "      <td>...</td>\n",
       "      <td>...</td>\n",
       "      <td>...</td>\n",
       "      <td>...</td>\n",
       "      <td>...</td>\n",
       "      <td>...</td>\n",
       "      <td>...</td>\n",
       "      <td>...</td>\n",
       "      <td>...</td>\n",
       "      <td>...</td>\n",
       "      <td>...</td>\n",
       "      <td>...</td>\n",
       "      <td>...</td>\n",
       "      <td>...</td>\n",
       "      <td>...</td>\n",
       "    </tr>\n",
       "    <tr>\n",
       "      <th>769</th>\n",
       "      <td>2014</td>\n",
       "      <td>2022</td>\n",
       "      <td>8673</td>\n",
       "      <td>9808</td>\n",
       "      <td>72601</td>\n",
       "      <td>19183</td>\n",
       "      <td>9735</td>\n",
       "      <td>47867</td>\n",
       "      <td>41338</td>\n",
       "      <td>17439</td>\n",
       "      <td>...</td>\n",
       "      <td>19160</td>\n",
       "      <td>51664</td>\n",
       "      <td>9085</td>\n",
       "      <td>20317</td>\n",
       "      <td>5455</td>\n",
       "      <td>4054</td>\n",
       "      <td>14627</td>\n",
       "      <td>12242</td>\n",
       "      <td>3478</td>\n",
       "      <td>1594</td>\n",
       "    </tr>\n",
       "    <tr>\n",
       "      <th>770</th>\n",
       "      <td>2015</td>\n",
       "      <td>1928</td>\n",
       "      <td>8689</td>\n",
       "      <td>10032</td>\n",
       "      <td>74746</td>\n",
       "      <td>19502</td>\n",
       "      <td>10042</td>\n",
       "      <td>48357</td>\n",
       "      <td>41294</td>\n",
       "      <td>17460</td>\n",
       "      <td>...</td>\n",
       "      <td>19244</td>\n",
       "      <td>52591</td>\n",
       "      <td>9720</td>\n",
       "      <td>18802</td>\n",
       "      <td>5763</td>\n",
       "      <td>2844</td>\n",
       "      <td>14971</td>\n",
       "      <td>12246</td>\n",
       "      <td>3478</td>\n",
       "      <td>1560</td>\n",
       "    </tr>\n",
       "    <tr>\n",
       "      <th>771</th>\n",
       "      <td>2016</td>\n",
       "      <td>1929</td>\n",
       "      <td>8453</td>\n",
       "      <td>10342</td>\n",
       "      <td>75876</td>\n",
       "      <td>18875</td>\n",
       "      <td>10080</td>\n",
       "      <td>48845</td>\n",
       "      <td>41445</td>\n",
       "      <td>16645</td>\n",
       "      <td>...</td>\n",
       "      <td>19468</td>\n",
       "      <td>53015</td>\n",
       "      <td>10381</td>\n",
       "      <td>15219</td>\n",
       "      <td>6062</td>\n",
       "      <td>2506</td>\n",
       "      <td>15416</td>\n",
       "      <td>12139</td>\n",
       "      <td>3479</td>\n",
       "      <td>1534</td>\n",
       "    </tr>\n",
       "    <tr>\n",
       "      <th>772</th>\n",
       "      <td>2017</td>\n",
       "      <td>2014.75</td>\n",
       "      <td>8146.44</td>\n",
       "      <td>10702.1</td>\n",
       "      <td>76643.5</td>\n",
       "      <td>19200.9</td>\n",
       "      <td>10859.4</td>\n",
       "      <td>49265.6</td>\n",
       "      <td>42177.4</td>\n",
       "      <td>16522.3</td>\n",
       "      <td>...</td>\n",
       "      <td>19918.1</td>\n",
       "      <td>54007.8</td>\n",
       "      <td>10743.9</td>\n",
       "      <td>12879.1</td>\n",
       "      <td>6422.09</td>\n",
       "      <td>2321.92</td>\n",
       "      <td>15960.8</td>\n",
       "      <td>12189.4</td>\n",
       "      <td>3497.58</td>\n",
       "      <td>1582.37</td>\n",
       "    </tr>\n",
       "    <tr>\n",
       "      <th>773</th>\n",
       "      <td>2018</td>\n",
       "      <td>1934.55</td>\n",
       "      <td>7771.44</td>\n",
       "      <td>11104.2</td>\n",
       "      <td>76397.8</td>\n",
       "      <td>18556.4</td>\n",
       "      <td>11454.4</td>\n",
       "      <td>49830.8</td>\n",
       "      <td>42988.1</td>\n",
       "      <td>16628.1</td>\n",
       "      <td>...</td>\n",
       "      <td>20185.8</td>\n",
       "      <td>55334.7</td>\n",
       "      <td>11220.4</td>\n",
       "      <td>10710</td>\n",
       "      <td>6814.14</td>\n",
       "      <td>2284.89</td>\n",
       "      <td>16558.3</td>\n",
       "      <td>12165.8</td>\n",
       "      <td>3534.03</td>\n",
       "      <td>1611.41</td>\n",
       "    </tr>\n",
       "  </tbody>\n",
       "</table>\n",
       "<p>774 rows × 170 columns</p>\n",
       "</div>"
      ],
      "text/plain": [
       "    GDP pc 2011 prices Afghanistan   Angola  Albania United Arab Emirates  \\\n",
       "0                 year         AFG      AGO      ALB                  ARE   \n",
       "1                    1         NaN      NaN      NaN                  NaN   \n",
       "2                  730         NaN      NaN      NaN                  NaN   \n",
       "3                 1000         NaN      NaN      NaN                  NaN   \n",
       "4                 1090         NaN      NaN      NaN                  NaN   \n",
       "..                 ...         ...      ...      ...                  ...   \n",
       "769               2014        2022     8673     9808                72601   \n",
       "770               2015        1928     8689    10032                74746   \n",
       "771               2016        1929     8453    10342                75876   \n",
       "772               2017     2014.75  8146.44  10702.1              76643.5   \n",
       "773               2018     1934.55  7771.44  11104.2              76397.8   \n",
       "\n",
       "    Argentina  Armenia Australia  Austria Azerbaijan  ...  Uruguay  \\\n",
       "0         ARG      ARM       AUS      AUT        AZE  ...      URY   \n",
       "1         NaN      NaN       NaN      NaN        NaN  ...      NaN   \n",
       "2         NaN      NaN       NaN      NaN        NaN  ...      NaN   \n",
       "3         NaN      NaN       NaN      NaN        NaN  ...      NaN   \n",
       "4         NaN      NaN       NaN      NaN        NaN  ...      NaN   \n",
       "..        ...      ...       ...      ...        ...  ...      ...   \n",
       "769     19183     9735     47867    41338      17439  ...    19160   \n",
       "770     19502    10042     48357    41294      17460  ...    19244   \n",
       "771     18875    10080     48845    41445      16645  ...    19468   \n",
       "772   19200.9  10859.4   49265.6  42177.4    16522.3  ...  19918.1   \n",
       "773   18556.4  11454.4   49830.8  42988.1    16628.1  ...  20185.8   \n",
       "\n",
       "    United States Uzbekistan Venezuela (Bolivarian Republic of) Viet Nam  \\\n",
       "0             USA        UZB                                VEN      VNM   \n",
       "1             NaN        NaN                                NaN      NaN   \n",
       "2             NaN        NaN                                NaN      NaN   \n",
       "3             NaN        NaN                                NaN      NaN   \n",
       "4             NaN        NaN                                NaN      NaN   \n",
       "..            ...        ...                                ...      ...   \n",
       "769         51664       9085                              20317     5455   \n",
       "770         52591       9720                              18802     5763   \n",
       "771         53015      10381                              15219     6062   \n",
       "772       54007.8    10743.9                            12879.1  6422.09   \n",
       "773       55334.7    11220.4                              10710  6814.14   \n",
       "\n",
       "       Yemen Former Yugoslavia South Africa   Zambia Zimbabwe  \n",
       "0        YEM               YUG          ZAF      ZMB      ZWE  \n",
       "1        NaN               NaN          NaN      NaN      NaN  \n",
       "2        NaN               NaN          NaN      NaN      NaN  \n",
       "3        NaN               NaN          NaN      NaN      NaN  \n",
       "4        NaN               NaN          NaN      NaN      NaN  \n",
       "..       ...               ...          ...      ...      ...  \n",
       "769     4054             14627        12242     3478     1594  \n",
       "770     2844             14971        12246     3478     1560  \n",
       "771     2506             15416        12139     3479     1534  \n",
       "772  2321.92           15960.8      12189.4  3497.58  1582.37  \n",
       "773  2284.89           16558.3      12165.8  3534.03  1611.41  \n",
       "\n",
       "[774 rows x 170 columns]"
      ]
     },
     "execution_count": 3,
     "metadata": {},
     "output_type": "execute_result"
    }
   ],
   "source": [
    "mad_data"
   ]
  },
  {
   "cell_type": "markdown",
   "metadata": {},
   "source": [
    "##### Task b)"
   ]
  },
  {
   "cell_type": "markdown",
   "metadata": {},
   "source": [
    "plot real GDP data of three countries over time"
   ]
  },
  {
   "cell_type": "markdown",
   "metadata": {},
   "source": [
    "The countries chosen here are Egypt, France and Iraq"
   ]
  },
  {
   "cell_type": "markdown",
   "metadata": {},
   "source": [
    "start by making a dataframe only with these countries"
   ]
  },
  {
   "cell_type": "markdown",
   "metadata": {},
   "source": [
    "The first row contains the country codes. This row gets droped"
   ]
  },
  {
   "cell_type": "code",
   "execution_count": 4,
   "metadata": {},
   "outputs": [],
   "source": [
    "mad_select = mad_data[['GDP pc 2011 prices','Egypt', 'France','Iraq']].copy()"
   ]
  },
  {
   "cell_type": "code",
   "execution_count": 5,
   "metadata": {},
   "outputs": [],
   "source": [
    "mad_select = mad_select.drop(0)"
   ]
  },
  {
   "cell_type": "markdown",
   "metadata": {},
   "source": [
    "The dataframe now looks like this:"
   ]
  },
  {
   "cell_type": "code",
   "execution_count": 6,
   "metadata": {},
   "outputs": [
    {
     "data": {
      "text/html": [
       "<div>\n",
       "<style scoped>\n",
       "    .dataframe tbody tr th:only-of-type {\n",
       "        vertical-align: middle;\n",
       "    }\n",
       "\n",
       "    .dataframe tbody tr th {\n",
       "        vertical-align: top;\n",
       "    }\n",
       "\n",
       "    .dataframe thead th {\n",
       "        text-align: right;\n",
       "    }\n",
       "</style>\n",
       "<table border=\"1\" class=\"dataframe\">\n",
       "  <thead>\n",
       "    <tr style=\"text-align: right;\">\n",
       "      <th></th>\n",
       "      <th>GDP pc 2011 prices</th>\n",
       "      <th>Egypt</th>\n",
       "      <th>France</th>\n",
       "      <th>Iraq</th>\n",
       "    </tr>\n",
       "  </thead>\n",
       "  <tbody>\n",
       "    <tr>\n",
       "      <th>1</th>\n",
       "      <td>1</td>\n",
       "      <td>1116</td>\n",
       "      <td>956</td>\n",
       "      <td>1116</td>\n",
       "    </tr>\n",
       "    <tr>\n",
       "      <th>2</th>\n",
       "      <td>730</td>\n",
       "      <td>1164</td>\n",
       "      <td>NaN</td>\n",
       "      <td>1466</td>\n",
       "    </tr>\n",
       "    <tr>\n",
       "      <th>3</th>\n",
       "      <td>1000</td>\n",
       "      <td>956</td>\n",
       "      <td>NaN</td>\n",
       "      <td>1307</td>\n",
       "    </tr>\n",
       "    <tr>\n",
       "      <th>4</th>\n",
       "      <td>1090</td>\n",
       "      <td>NaN</td>\n",
       "      <td>NaN</td>\n",
       "      <td>NaN</td>\n",
       "    </tr>\n",
       "    <tr>\n",
       "      <th>5</th>\n",
       "      <td>1120</td>\n",
       "      <td>1052</td>\n",
       "      <td>NaN</td>\n",
       "      <td>1084</td>\n",
       "    </tr>\n",
       "    <tr>\n",
       "      <th>...</th>\n",
       "      <td>...</td>\n",
       "      <td>...</td>\n",
       "      <td>...</td>\n",
       "      <td>...</td>\n",
       "    </tr>\n",
       "    <tr>\n",
       "      <th>769</th>\n",
       "      <td>2014</td>\n",
       "      <td>11016</td>\n",
       "      <td>36527</td>\n",
       "      <td>12817</td>\n",
       "    </tr>\n",
       "    <tr>\n",
       "      <th>770</th>\n",
       "      <td>2015</td>\n",
       "      <td>11159</td>\n",
       "      <td>36827</td>\n",
       "      <td>13014</td>\n",
       "    </tr>\n",
       "    <tr>\n",
       "      <th>771</th>\n",
       "      <td>2016</td>\n",
       "      <td>11351</td>\n",
       "      <td>37124</td>\n",
       "      <td>13898</td>\n",
       "    </tr>\n",
       "    <tr>\n",
       "      <th>772</th>\n",
       "      <td>2017</td>\n",
       "      <td>11619.7</td>\n",
       "      <td>37895</td>\n",
       "      <td>13211.3</td>\n",
       "    </tr>\n",
       "    <tr>\n",
       "      <th>773</th>\n",
       "      <td>2018</td>\n",
       "      <td>11957.2</td>\n",
       "      <td>38515.9</td>\n",
       "      <td>12835.8</td>\n",
       "    </tr>\n",
       "  </tbody>\n",
       "</table>\n",
       "<p>773 rows × 4 columns</p>\n",
       "</div>"
      ],
      "text/plain": [
       "    GDP pc 2011 prices    Egypt   France     Iraq\n",
       "1                    1     1116      956     1116\n",
       "2                  730     1164      NaN     1466\n",
       "3                 1000      956      NaN     1307\n",
       "4                 1090      NaN      NaN      NaN\n",
       "5                 1120     1052      NaN     1084\n",
       "..                 ...      ...      ...      ...\n",
       "769               2014    11016    36527    12817\n",
       "770               2015    11159    36827    13014\n",
       "771               2016    11351    37124    13898\n",
       "772               2017  11619.7    37895  13211.3\n",
       "773               2018  11957.2  38515.9  12835.8\n",
       "\n",
       "[773 rows x 4 columns]"
      ]
     },
     "execution_count": 6,
     "metadata": {},
     "output_type": "execute_result"
    }
   ],
   "source": [
    "mad_select"
   ]
  },
  {
   "cell_type": "markdown",
   "metadata": {},
   "source": [
    "The column for year is called 'GDP pc 2011 prices'. We rename it 'year'"
   ]
  },
  {
   "cell_type": "code",
   "execution_count": 7,
   "metadata": {},
   "outputs": [],
   "source": [
    "mad_select.rename(columns={\"GDP pc 2011 prices\": \"year\"},inplace=True)"
   ]
  },
  {
   "cell_type": "markdown",
   "metadata": {},
   "source": [
    "Now the GDP per capita can be plotted"
   ]
  },
  {
   "cell_type": "code",
   "execution_count": 8,
   "metadata": {},
   "outputs": [
    {
     "data": {
      "text/plain": [
       "<AxesSubplot:title={'center':'GDP per capita since year 1, comparison'}, xlabel='year'>"
      ]
     },
     "execution_count": 8,
     "metadata": {},
     "output_type": "execute_result"
    },
    {
     "data": {
      "image/png": "[encoded data removed]",
      "text/plain": [
       "<Figure size 432x288 with 1 Axes>"
      ]
     },
     "metadata": {
      "needs_background": "light"
     },
     "output_type": "display_data"
    }
   ],
   "source": [
    "mad_select.plot('year',kind = 'line', title = 'GDP per capita since year 1, comparison')"
   ]
  },
  {
   "cell_type": "markdown",
   "metadata": {},
   "source": [
    "Now each country gets plotted seperatly"
   ]
  },
  {
   "cell_type": "markdown",
   "metadata": {},
   "source": [
    "Egypt"
   ]
  },
  {
   "cell_type": "code",
   "execution_count": 9,
   "metadata": {},
   "outputs": [
    {
     "data": {
      "text/plain": [
       "<AxesSubplot:title={'center':'GDP per capita since year 1, Egypt'}, xlabel='year'>"
      ]
     },
     "execution_count": 9,
     "metadata": {},
     "output_type": "execute_result"
    },
    {
     "data": {
      "image/png": "[encoded data removed]",
      "text/plain": [
       "<Figure size 432x288 with 1 Axes>"
      ]
     },
     "metadata": {
      "needs_background": "light"
     },
     "output_type": "display_data"
    }
   ],
   "source": [
    "mad_select.plot(x ='year', y='Egypt', kind = 'line', title = 'GDP per capita since year 1, Egypt')"
   ]
  },
  {
   "cell_type": "markdown",
   "metadata": {},
   "source": [
    "France:"
   ]
  },
  {
   "cell_type": "code",
   "execution_count": 10,
   "metadata": {},
   "outputs": [
    {
     "data": {
      "text/plain": [
       "<AxesSubplot:title={'center':'GDP per capita since year 1, France'}, xlabel='year'>"
      ]
     },
     "execution_count": 10,
     "metadata": {},
     "output_type": "execute_result"
    },
    {
     "data": {
      "image/png": "[encoded data removed]",
      "text/plain": [
       "<Figure size 432x288 with 1 Axes>"
      ]
     },
     "metadata": {
      "needs_background": "light"
     },
     "output_type": "display_data"
    }
   ],
   "source": [
    "mad_select.plot(x ='year', y='France', kind = 'line', title = 'GDP per capita since year 1, France')"
   ]
  },
  {
   "cell_type": "markdown",
   "metadata": {},
   "source": [
    "Iraq:"
   ]
  },
  {
   "cell_type": "code",
   "execution_count": 11,
   "metadata": {},
   "outputs": [
    {
     "data": {
      "text/plain": [
       "<AxesSubplot:title={'center':'GDP per capita since year 1, Iraq'}, xlabel='year'>"
      ]
     },
     "execution_count": 11,
     "metadata": {},
     "output_type": "execute_result"
    },
    {
     "data": {
      "image/png": "[encoded data removed]",
      "text/plain": [
       "<Figure size 432x288 with 1 Axes>"
      ]
     },
     "metadata": {
      "needs_background": "light"
     },
     "output_type": "display_data"
    }
   ],
   "source": [
    "mad_select.plot(x ='year', y='Iraq', kind = 'line', title = 'GDP per capita since year 1, Iraq')"
   ]
  },
  {
   "cell_type": "markdown",
   "metadata": {},
   "source": [
    "##### Task c)"
   ]
  },
  {
   "cell_type": "markdown",
   "metadata": {},
   "source": [
    "compound annual real GDP per capita growth rate for France from 1 to 1280"
   ]
  },
  {
   "cell_type": "markdown",
   "metadata": {},
   "source": [
    "GDP per capita in year 1 = gdp1 and in year 1280 = gdp1280"
   ]
  },
  {
   "cell_type": "code",
   "execution_count": 12,
   "metadata": {},
   "outputs": [],
   "source": [
    "gdp1 = mad_select.loc[mad_select['year'] == 1, 'France'].iloc[0]"
   ]
  },
  {
   "cell_type": "code",
   "execution_count": 13,
   "metadata": {},
   "outputs": [],
   "source": [
    "gdp1280 = mad_select.loc[mad_select['year'] == 1280, 'France'].iloc[0]"
   ]
  },
  {
   "cell_type": "markdown",
   "metadata": {},
   "source": [
    "We can now calculate the annual growth rate with (gdp2/gdp1)^(1/(y2-y1))-1 where gdp1 = gdp in period 1, gdp2 = gdp in period 2, y1 = year in period 1, y2 = year in period 2"
   ]
  },
  {
   "cell_type": "code",
   "execution_count": 14,
   "metadata": {},
   "outputs": [],
   "source": [
    "growth1 = pow((gdp1280/gdp1),(1/(1280-1)))-1"
   ]
  },
  {
   "cell_type": "code",
   "execution_count": 15,
   "metadata": {},
   "outputs": [
    {
     "data": {
      "text/plain": [
       "0.025287511957317044"
      ]
     },
     "execution_count": 15,
     "metadata": {},
     "output_type": "execute_result"
    }
   ],
   "source": [
    "growth1*100"
   ]
  },
  {
   "cell_type": "markdown",
   "metadata": {},
   "source": [
    "The annual growth rate for real GDP per capita in France from 1 to 1280 is approximately 0.0253%"
   ]
  },
  {
   "cell_type": "markdown",
   "metadata": {},
   "source": [
    "compound annual real GDP per capita growth rate for France from 1820 to 2018"
   ]
  },
  {
   "cell_type": "code",
   "execution_count": 16,
   "metadata": {},
   "outputs": [],
   "source": [
    "gdp1820 = mad_select.loc[mad_select['year'] == 1820, 'France'].iloc[0]"
   ]
  },
  {
   "cell_type": "code",
   "execution_count": 17,
   "metadata": {},
   "outputs": [],
   "source": [
    "gdp2018 = mad_select.loc[mad_select['year'] == 2018, 'France'].iloc[0]"
   ]
  },
  {
   "cell_type": "code",
   "execution_count": 18,
   "metadata": {},
   "outputs": [],
   "source": [
    "growth2 = pow((gdp2018/gdp1820),(1/(2018-1820)))-1"
   ]
  },
  {
   "cell_type": "code",
   "execution_count": 19,
   "metadata": {},
   "outputs": [
    {
     "data": {
      "text/plain": [
       "1.556585184957937"
      ]
     },
     "execution_count": 19,
     "metadata": {},
     "output_type": "execute_result"
    }
   ],
   "source": [
    "growth2*100"
   ]
  },
  {
   "cell_type": "markdown",
   "metadata": {},
   "source": [
    "The annual growth rate for real GDP per capita in France from 1820 to 2018 is approximately 1.5566%"
   ]
  },
  {
   "cell_type": "markdown",
   "metadata": {},
   "source": [
    "##### Task d)"
   ]
  },
  {
   "cell_type": "markdown",
   "metadata": {},
   "source": [
    "Calculate the number of years it would take France to archieve it's current level of GDP since 1820 with the growth rate from years 1 to 1280 with ln(gdp2/gdp1)/ln(1+growth) with gdp1 = gdp in period 1, gdp2 = gdp in period 2, growth = growth rate"
   ]
  },
  {
   "cell_type": "code",
   "execution_count": 20,
   "metadata": {},
   "outputs": [
    {
     "data": {
      "text/plain": [
       "12095.630884710345"
      ]
     },
     "execution_count": 20,
     "metadata": {},
     "output_type": "execute_result"
    }
   ],
   "source": [
    "(m.log(gdp2018/gdp1820))/(m.log(1+growth1))"
   ]
  },
  {
   "cell_type": "markdown",
   "metadata": {},
   "source": [
    "With the average annual growth rate from 1 to 1280 it would have taken approximatly 12096 years since 1820 to archieve the real GDP per capita from 2018"
   ]
  }
 ],
 "metadata": {
  "kernelspec": {
   "display_name": "Python 3",
   "language": "python",
   "name": "python3"
  },
  "language_info": {
   "codemirror_mode": {
    "name": "ipython",
    "version": 3
   },
   "file_extension": ".py",
   "mimetype": "text/x-python",
   "name": "python",
   "nbconvert_exporter": "python",
   "pygments_lexer": "ipython3",
   "version": "3.8.5"
  }
 },
 "nbformat": 4,
 "nbformat_minor": 4
}
